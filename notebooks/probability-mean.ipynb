{
 "cells": [
  {
   "cell_type": "markdown",
   "metadata": {},
   "source": [
    "<div style=\"text-align: center;\">\n",
    "    <h1 style=\"font-size: 42px;font-family: 'Trebuchet MS';color: #000045;\">Stats Demo</h1>\n",
    "    <h3 style=\"font-size: 28px;color: #7bb2bf;font-family: monospace;\">Probability Distribution for Binomial Random Variable</h3>\n",
    "</div>"
   ]
  },
  {
   "cell_type": "markdown",
   "metadata": {},
   "source": [
    "<section style=\"text-align: center;font-size:16px;color: #000045;font-weight:normal;margin-bottom:10px;\">\n",
    "    Inspiration drawn from the following site:\n",
    "    <br />\n",
    "    <br />\n",
    "    <a\n",
    "       style=\"color:#6e997c;text-decoration: none;font-size:14px;\"\n",
    "       href=\"https://saylordotorg.github.io/text_introductory-statistics/s08-03-the-binomial-distribution.html\"\n",
    "       target=\"_blank\"\n",
    "       >https://saylordotorg.github.io/text_introductory-statistics/s08-03-the-binomial-distribution.html\n",
    "    </a>\n",
    "</section>"
   ]
  },
  {
   "cell_type": "code",
   "execution_count": 14,
   "metadata": {},
   "outputs": [],
   "source": [
    "import scipy.special as ssp\n",
    "import matplotlib.pyplot as plt\n",
    "plt.rcParams[\"figure.figsize\"] = 9,7"
   ]
  },
  {
   "cell_type": "code",
   "execution_count": 3,
   "metadata": {},
   "outputs": [],
   "source": [
    "n = 5 # Number of trials\n",
    "p = 0.17 # Probability of \"success\"\n",
    "q = 1 - p # Probability of failure.\n",
    "\n",
    "dists = {}\n",
    "tot = 0\n",
    "for i in range(0, n+1):\n",
    "    res = ssp.binom(n, n-i) * (p**i) * (q ** (n - i))\n",
    "    dists[i] = round(res, 4)\n",
    "    tot += res\n",
    "tot = round(tot, 4)\n",
    "\n",
    "# Calculate mean based on total product of each key-value pair\n",
    "dist_mean_calc = sum(map(lambda x: x[0] * x[1], dists.items()))\n",
    "\n",
    "# Use formula to find mean and standard deviation\n",
    "dist_mean_simple = n * p\n",
    "dist_stdev = (n * p * q) ** (1/2)\n"
   ]
  },
  {
   "cell_type": "code",
   "execution_count": 6,
   "metadata": {},
   "outputs": [
    {
     "name": "stdout",
     "output_type": "stream",
     "text": [
      "Index\tValue\n",
      "\n",
      "0\t0.3939\n",
      "1\t0.4034\n",
      "2\t0.1652\n",
      "3\t0.0338\n",
      "4\t0.0035\n",
      "5\t0.0001\n"
     ]
    }
   ],
   "source": [
    "# The calculated distributions are:\n",
    "print(f\"Index\\tValue\")\n",
    "print(\"\\n\".join([f\"{k}\\t{v}\" for k, v in dists.items()]))"
   ]
  },
  {
   "cell_type": "code",
   "execution_count": 17,
   "metadata": {},
   "outputs": [
    {
     "name": "stdout",
     "output_type": "stream",
     "text": [
      "The calculated distribution mean is: 0.8497\n",
      "The formula-based distribution mean is equivalent at: 0.8500\n",
      "The distribution standard deviation is: 0.8399\n"
     ]
    }
   ],
   "source": [
    "output = []\n",
    "output.append(f\"The calculated distribution mean is: {dist_mean_calc:.4f}\")\n",
    "output.append(f\"The formula-based distribution mean is equivalent at: {dist_mean_simple:.4f}\")\n",
    "output.append(f\"The distribution standard deviation is: {dist_stdev:.4f}\")\n",
    "\n",
    "print(\"\\n\".join(output))"
   ]
  },
  {
   "cell_type": "code",
   "execution_count": 12,
   "metadata": {},
   "outputs": [],
   "source": [
    "labels = list(map(str, dists.keys()))\n",
    "values = list(dists.values())\n",
    "x = [i for i in range(len(labels))]"
   ]
  },
  {
   "cell_type": "code",
   "execution_count": 16,
   "metadata": {},
   "outputs": [
    {
     "data": {
      "image/png": "[encoded data removed]",
      "text/plain": [
       "<Figure size 648x504 with 1 Axes>"
      ]
     },
     "metadata": {
      "needs_background": "light"
     },
     "output_type": "display_data"
    }
   ],
   "source": [
    "fig, ax = plt.subplots()\n",
    "plt.bar(x, values)\n",
    "ax.set_ylabel(\"Bin\")\n",
    "ax.set_title(f\"Probability Distribution for p = {p}\")\n",
    "ax.set_xticks(x)\n",
    "ax.set_xticklabels(labels)\n",
    "\n",
    "fig.tight_layout()\n",
    "plt.show()"
   ]
  }
 ],
 "metadata": {
  "kernelspec": {
   "display_name": "Python 3",
   "language": "python",
   "name": "python3"
  },
  "language_info": {
   "codemirror_mode": {
    "name": "ipython",
    "version": 3
   },
   "file_extension": ".py",
   "mimetype": "text/x-python",
   "name": "python",
   "nbconvert_exporter": "python",
   "pygments_lexer": "ipython3",
   "version": "3.7.4"
  }
 },
 "nbformat": 4,
 "nbformat_minor": 2
}
